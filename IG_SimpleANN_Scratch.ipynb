{
  "nbformat": 4,
  "nbformat_minor": 0,
  "metadata": {
    "colab": {
      "provenance": [],
      "authorship_tag": "ABX9TyM6TC9FiFt2IvHH+BRMo09R",
      "include_colab_link": true
    },
    "kernelspec": {
      "name": "python3",
      "display_name": "Python 3"
    },
    "language_info": {
      "name": "python"
    }
  },
  "cells": [
    {
      "cell_type": "markdown",
      "metadata": {
        "id": "view-in-github",
        "colab_type": "text"
      },
      "source": [
        "<a href=\"https://colab.research.google.com/github/brainmentorspvtltd/IGDTU_PyTorchTraining/blob/main/IG_SimpleANN_Scratch.ipynb\" target=\"_parent\"><img src=\"https://colab.research.google.com/assets/colab-badge.svg\" alt=\"Open In Colab\"/></a>"
      ]
    },
    {
      "cell_type": "code",
      "execution_count": 1,
      "metadata": {
        "id": "BIsNPPe8Fh97"
      },
      "outputs": [],
      "source": [
        "import numpy as np"
      ]
    },
    {
      "cell_type": "code",
      "source": [
        "x = np.array([\n",
        "    [1,0,1,0],\n",
        "    [1,0,1,1],\n",
        "    [0,1,0,1]\n",
        "])\n",
        "\n",
        "y = np.array([[1],[1],[0]])"
      ],
      "metadata": {
        "id": "kEjgtaH1F8jL"
      },
      "execution_count": 2,
      "outputs": []
    },
    {
      "cell_type": "code",
      "source": [
        "# Activation function\n",
        "def sigmoid(x):\n",
        "  return 1 / (1 + np.exp(-x))"
      ],
      "metadata": {
        "id": "bfdvAFkmGQ9d"
      },
      "execution_count": 3,
      "outputs": []
    },
    {
      "cell_type": "code",
      "source": [
        "x.shape"
      ],
      "metadata": {
        "colab": {
          "base_uri": "https://localhost:8080/"
        },
        "id": "3FpRLSvnG8ML",
        "outputId": "2883303a-d9cc-4f4c-c733-feef3fbd3851"
      },
      "execution_count": 4,
      "outputs": [
        {
          "output_type": "execute_result",
          "data": {
            "text/plain": [
              "(3, 4)"
            ]
          },
          "metadata": {},
          "execution_count": 4
        }
      ]
    },
    {
      "cell_type": "code",
      "source": [
        "# input layer neurons will be always equals to the number of columns\n",
        "inputNeurons = x.shape[1]\n",
        "# hidden neurons we can decide by hit and trial\n",
        "hiddenNeurons = 3\n",
        "# output neurons depends on number of classes we have in target column\n",
        "outputNeurons = 1"
      ],
      "metadata": {
        "id": "O1HxajOkGpiZ"
      },
      "execution_count": 19,
      "outputs": []
    },
    {
      "cell_type": "code",
      "source": [
        "weightsHidden = np.random.uniform(size=(inputNeurons, hiddenNeurons))\n",
        "biasHidden = np.random.uniform(size=(1, hiddenNeurons))\n",
        "weightsOutput = np.random.uniform(size=(hiddenNeurons, outputNeurons))\n",
        "biasOutput = np.random.uniform(size=(1, outputNeurons))"
      ],
      "metadata": {
        "id": "2vcDmNzwHGzm"
      },
      "execution_count": 20,
      "outputs": []
    },
    {
      "cell_type": "code",
      "source": [
        "# Feedforward\n",
        "# Step-1 - apply dot product and add bias : f(x) = x.wh + biasHidden\n",
        "fx = np.dot(x, weightsHidden) + biasHidden"
      ],
      "metadata": {
        "id": "EVl1MhzeMkqn"
      },
      "execution_count": 21,
      "outputs": []
    },
    {
      "cell_type": "code",
      "source": [
        "# Step-2 - apply activation function\n",
        "hiddenLayer = sigmoid(fx)"
      ],
      "metadata": {
        "id": "T0ldgMDpN5rb"
      },
      "execution_count": 22,
      "outputs": []
    },
    {
      "cell_type": "code",
      "source": [
        "hiddenLayer"
      ],
      "metadata": {
        "colab": {
          "base_uri": "https://localhost:8080/"
        },
        "id": "bQNu5ZDiOV3x",
        "outputId": "63a4a2f6-cc86-4720-c6ff-42615819c91b"
      },
      "execution_count": 23,
      "outputs": [
        {
          "output_type": "execute_result",
          "data": {
            "text/plain": [
              "array([[0.90603389, 0.65352473, 0.84106858],\n",
              "       [0.94801038, 0.80386861, 0.90161074],\n",
              "       [0.87469198, 0.74645775, 0.83265015]])"
            ]
          },
          "metadata": {},
          "execution_count": 23
        }
      ]
    },
    {
      "cell_type": "code",
      "source": [
        "# Step-3 - apply dot product and add bias : f(x) = hiddenLayer.wout + biasOut\n",
        "fx_ = np.dot(hiddenLayer, weightsOutput) + biasOutput"
      ],
      "metadata": {
        "id": "T4fOW0dkOWm7"
      },
      "execution_count": 24,
      "outputs": []
    },
    {
      "cell_type": "code",
      "source": [
        "fx_"
      ],
      "metadata": {
        "colab": {
          "base_uri": "https://localhost:8080/"
        },
        "id": "bqbOszpKOtrd",
        "outputId": "47d33875-7540-4720-d377-409aa508afbe"
      },
      "execution_count": 25,
      "outputs": [
        {
          "output_type": "execute_result",
          "data": {
            "text/plain": [
              "array([[1.01176489],\n",
              "       [1.06777636],\n",
              "       [0.99822071]])"
            ]
          },
          "metadata": {},
          "execution_count": 25
        }
      ]
    },
    {
      "cell_type": "code",
      "source": [
        "biasHidden"
      ],
      "metadata": {
        "colab": {
          "base_uri": "https://localhost:8080/"
        },
        "id": "RUgF4CTyPAwv",
        "outputId": "187eb65c-8090-4037-a6d6-c0de6ee26235"
      },
      "execution_count": 26,
      "outputs": [
        {
          "output_type": "execute_result",
          "data": {
            "text/plain": [
              "array([[0.655772  , 0.09431517, 0.71017051]])"
            ]
          },
          "metadata": {},
          "execution_count": 26
        }
      ]
    },
    {
      "cell_type": "code",
      "source": [
        "biasOutput"
      ],
      "metadata": {
        "colab": {
          "base_uri": "https://localhost:8080/"
        },
        "id": "S3vujyNzPwm4",
        "outputId": "81083cf7-14e4-4090-fabc-8f0951ba73c9"
      },
      "execution_count": 27,
      "outputs": [
        {
          "output_type": "execute_result",
          "data": {
            "text/plain": [
              "array([[0.16026501]])"
            ]
          },
          "metadata": {},
          "execution_count": 27
        }
      ]
    },
    {
      "cell_type": "code",
      "source": [
        "outputLayer = sigmoid(fx_)"
      ],
      "metadata": {
        "id": "CK4we38dPxLA"
      },
      "execution_count": 31,
      "outputs": []
    },
    {
      "cell_type": "code",
      "source": [
        "outputLayer"
      ],
      "metadata": {
        "colab": {
          "base_uri": "https://localhost:8080/"
        },
        "id": "mS1Is2wvP-TN",
        "outputId": "3e9f71cc-c245-449f-c02a-f11234efa251"
      },
      "execution_count": 29,
      "outputs": [
        {
          "output_type": "execute_result",
          "data": {
            "text/plain": [
              "array([[0.7333654 ],\n",
              "       [0.74417381],\n",
              "       [0.7307086 ]])"
            ]
          },
          "metadata": {},
          "execution_count": 29
        }
      ]
    },
    {
      "cell_type": "code",
      "source": [
        "def derivativeSigmoid(x):\n",
        "  return x * (1 - x)"
      ],
      "metadata": {
        "id": "wDhMw82JYxi2"
      },
      "execution_count": 32,
      "outputs": []
    },
    {
      "cell_type": "code",
      "source": [
        "# Backpropagation\n",
        "\n",
        "# Error on output layer\n",
        "errorOutput = outputLayer - y\n",
        "# Slope on output layer - derivative of activation function applied on this layer\n",
        "slopeOutput = derivativeSigmoid(outputLayer)\n",
        "# Delta = error x slope\n",
        "deltaOutput = errorOutput * slopeOutput"
      ],
      "metadata": {
        "id": "Y8BsK-AXP_MS"
      },
      "execution_count": 33,
      "outputs": []
    },
    {
      "cell_type": "code",
      "source": [
        "errorHidden = np.dot(deltaOutput, weightsOutput.T)\n",
        "slopeHidden = derivativeSigmoid(hiddenLayer)\n",
        "deltaHidden = errorHidden * slopeHidden"
      ],
      "metadata": {
        "id": "cceuq5XYZC6w"
      },
      "execution_count": 35,
      "outputs": []
    },
    {
      "cell_type": "code",
      "source": [],
      "metadata": {
        "id": "ljuLh8DKZU6S"
      },
      "execution_count": null,
      "outputs": []
    }
  ]
}
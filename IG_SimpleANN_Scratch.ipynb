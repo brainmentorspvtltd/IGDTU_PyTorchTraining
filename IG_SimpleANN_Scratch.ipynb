{
  "nbformat": 4,
  "nbformat_minor": 0,
  "metadata": {
    "colab": {
      "provenance": [],
      "authorship_tag": "ABX9TyNJOfHXG8HDLqTOWwxwnmcj",
      "include_colab_link": true
    },
    "kernelspec": {
      "name": "python3",
      "display_name": "Python 3"
    },
    "language_info": {
      "name": "python"
    }
  },
  "cells": [
    {
      "cell_type": "markdown",
      "metadata": {
        "id": "view-in-github",
        "colab_type": "text"
      },
      "source": [
        "<a href=\"https://colab.research.google.com/github/brainmentorspvtltd/IGDTU_PyTorchTraining/blob/main/IG_SimpleANN_Scratch.ipynb\" target=\"_parent\"><img src=\"https://colab.research.google.com/assets/colab-badge.svg\" alt=\"Open In Colab\"/></a>"
      ]
    },
    {
      "cell_type": "code",
      "execution_count": null,
      "metadata": {
        "id": "BIsNPPe8Fh97"
      },
      "outputs": [],
      "source": [
        "import numpy as np"
      ]
    },
    {
      "cell_type": "code",
      "source": [
        "x = np.array([\n",
        "    [1,0,1,0],\n",
        "    [1,0,1,1],\n",
        "    [0,1,0,1]\n",
        "])\n",
        "\n",
        "y = np.array([[1],[1],[0]])"
      ],
      "metadata": {
        "id": "kEjgtaH1F8jL"
      },
      "execution_count": null,
      "outputs": []
    },
    {
      "cell_type": "code",
      "source": [
        "# Activation function\n",
        "def sigmoid(x):\n",
        "  return 1 / (1 + np.exp(-x))"
      ],
      "metadata": {
        "id": "bfdvAFkmGQ9d"
      },
      "execution_count": null,
      "outputs": []
    },
    {
      "cell_type": "code",
      "source": [
        "x.shape"
      ],
      "metadata": {
        "colab": {
          "base_uri": "https://localhost:8080/"
        },
        "id": "3FpRLSvnG8ML",
        "outputId": "3052c2ba-9da4-438a-c7e6-46880440a7ab"
      },
      "execution_count": null,
      "outputs": [
        {
          "output_type": "execute_result",
          "data": {
            "text/plain": [
              "(3, 4)"
            ]
          },
          "metadata": {},
          "execution_count": 4
        }
      ]
    },
    {
      "cell_type": "code",
      "source": [
        "# input layer neurons will be always equals to the number of columns\n",
        "inputNeurons = x.shape[1]\n",
        "# hidden neurons we can decide by hit and trial\n",
        "hiddenNeurons = 4\n",
        "# output neurons depends on number of classes we have in target column\n",
        "outputNeurons = 1"
      ],
      "metadata": {
        "id": "O1HxajOkGpiZ"
      },
      "execution_count": 33,
      "outputs": []
    },
    {
      "cell_type": "code",
      "source": [
        "weightsHidden = np.random.uniform(size=(inputNeurons, hiddenNeurons))\n",
        "biasHidden = np.random.uniform(size=(1, hiddenNeurons))\n",
        "weightsOutput = np.random.uniform(size=(hiddenNeurons, outputNeurons))\n",
        "biasOutput = np.random.uniform(size=(1, outputNeurons))"
      ],
      "metadata": {
        "id": "2vcDmNzwHGzm"
      },
      "execution_count": 34,
      "outputs": []
    },
    {
      "cell_type": "code",
      "source": [
        "# Feedforward\n",
        "# Step-1 - apply dot product and add bias : f(x) = x.wh + biasHidden\n",
        "fx = np.dot(x, weightsHidden) + biasHidden"
      ],
      "metadata": {
        "id": "EVl1MhzeMkqn"
      },
      "execution_count": 35,
      "outputs": []
    },
    {
      "cell_type": "code",
      "source": [
        "# Step-2 - apply activation function\n",
        "hiddenLayer = sigmoid(fx)"
      ],
      "metadata": {
        "id": "T0ldgMDpN5rb"
      },
      "execution_count": 36,
      "outputs": []
    },
    {
      "cell_type": "code",
      "source": [
        "hiddenLayer"
      ],
      "metadata": {
        "colab": {
          "base_uri": "https://localhost:8080/"
        },
        "id": "bQNu5ZDiOV3x",
        "outputId": "c8850593-75ba-4bdf-f5dd-3906f9986753"
      },
      "execution_count": 37,
      "outputs": [
        {
          "output_type": "execute_result",
          "data": {
            "text/plain": [
              "array([[0.8976489 , 0.82175358, 0.76421968, 0.87760047],\n",
              "       [0.9034121 , 0.83175904, 0.86016566, 0.94825009],\n",
              "       [0.80963327, 0.71796918, 0.84220111, 0.93052533]])"
            ]
          },
          "metadata": {},
          "execution_count": 37
        }
      ]
    },
    {
      "cell_type": "code",
      "source": [
        "# Step-3 - apply dot product and add bias : f(x) = hiddenLayer.wout + biasOut\n",
        "fx_ = np.dot(hiddenLayer, weightsOutput) + biasOutput"
      ],
      "metadata": {
        "id": "T4fOW0dkOWm7"
      },
      "execution_count": 38,
      "outputs": []
    },
    {
      "cell_type": "code",
      "source": [
        "fx_"
      ],
      "metadata": {
        "colab": {
          "base_uri": "https://localhost:8080/"
        },
        "id": "bqbOszpKOtrd",
        "outputId": "eb93fb12-ccf1-43c3-c089-8a0f397023ea"
      },
      "execution_count": 39,
      "outputs": [
        {
          "output_type": "execute_result",
          "data": {
            "text/plain": [
              "array([[2.30764531],\n",
              "       [2.42234053],\n",
              "       [2.27339111]])"
            ]
          },
          "metadata": {},
          "execution_count": 39
        }
      ]
    },
    {
      "cell_type": "code",
      "source": [
        "biasHidden"
      ],
      "metadata": {
        "colab": {
          "base_uri": "https://localhost:8080/"
        },
        "id": "RUgF4CTyPAwv",
        "outputId": "0671d54e-1a31-4534-85a4-ab14fbf16bc7"
      },
      "execution_count": 40,
      "outputs": [
        {
          "output_type": "execute_result",
          "data": {
            "text/plain": [
              "array([[0.80951327, 0.20155262, 0.33867043, 0.85186221]])"
            ]
          },
          "metadata": {},
          "execution_count": 40
        }
      ]
    },
    {
      "cell_type": "code",
      "source": [
        "biasOutput"
      ],
      "metadata": {
        "colab": {
          "base_uri": "https://localhost:8080/"
        },
        "id": "S3vujyNzPwm4",
        "outputId": "d658142c-9037-4f8f-c6b9-af3273f0e301"
      },
      "execution_count": 41,
      "outputs": [
        {
          "output_type": "execute_result",
          "data": {
            "text/plain": [
              "array([[0.41622712]])"
            ]
          },
          "metadata": {},
          "execution_count": 41
        }
      ]
    },
    {
      "cell_type": "code",
      "source": [
        "outputLayer = sigmoid(fx_)"
      ],
      "metadata": {
        "id": "CK4we38dPxLA"
      },
      "execution_count": 42,
      "outputs": []
    },
    {
      "cell_type": "code",
      "source": [
        "outputLayer"
      ],
      "metadata": {
        "colab": {
          "base_uri": "https://localhost:8080/"
        },
        "id": "mS1Is2wvP-TN",
        "outputId": "e272fdc4-8378-4c65-d9c9-a66687fd5209"
      },
      "execution_count": 43,
      "outputs": [
        {
          "output_type": "execute_result",
          "data": {
            "text/plain": [
              "array([[0.90950824],\n",
              "       [0.91851509],\n",
              "       [0.9066492 ]])"
            ]
          },
          "metadata": {},
          "execution_count": 43
        }
      ]
    },
    {
      "cell_type": "code",
      "source": [
        "def derivativeSigmoid(x):\n",
        "  return x * (1 - x)"
      ],
      "metadata": {
        "id": "wDhMw82JYxi2"
      },
      "execution_count": 44,
      "outputs": []
    },
    {
      "cell_type": "code",
      "source": [
        "# Backpropagation\n",
        "\n",
        "# Error on output layer\n",
        "errorOutput = outputLayer - y\n",
        "# Slope on output layer - derivative of activation function applied on this layer\n",
        "slopeOutput = derivativeSigmoid(outputLayer)\n",
        "# Delta = error x slope\n",
        "deltaOutput = errorOutput * slopeOutput"
      ],
      "metadata": {
        "id": "Y8BsK-AXP_MS"
      },
      "execution_count": 45,
      "outputs": []
    },
    {
      "cell_type": "code",
      "source": [
        "errorHidden = np.dot(deltaOutput, weightsOutput.T)\n",
        "slopeHidden = derivativeSigmoid(hiddenLayer)\n",
        "deltaHidden = errorHidden * slopeHidden"
      ],
      "metadata": {
        "id": "cceuq5XYZC6w"
      },
      "execution_count": 46,
      "outputs": []
    },
    {
      "cell_type": "code",
      "source": [
        "errorOutput"
      ],
      "metadata": {
        "id": "ljuLh8DKZU6S",
        "colab": {
          "base_uri": "https://localhost:8080/"
        },
        "outputId": "2d82171a-e83a-4891-c44c-217189a42646"
      },
      "execution_count": 47,
      "outputs": [
        {
          "output_type": "execute_result",
          "data": {
            "text/plain": [
              "array([[-0.09049176],\n",
              "       [-0.08148491],\n",
              "       [ 0.9066492 ]])"
            ]
          },
          "metadata": {},
          "execution_count": 47
        }
      ]
    },
    {
      "cell_type": "code",
      "source": [
        "alpha = 0.01\n",
        "weightsOutput = weightsOutput - hiddenLayer.T.dot(deltaOutput) * alpha\n",
        "weightsHidden = weightsHidden - x.T.dot(deltaHidden) * alpha\n",
        "biasOutput = biasOutput - np.sum(deltaOutput) * alpha\n",
        "biasHidden = biasHidden - np.sum(deltaHidden) * alpha"
      ],
      "metadata": {
        "id": "RCtp8MJgMwov"
      },
      "execution_count": 20,
      "outputs": []
    },
    {
      "cell_type": "code",
      "source": [
        "weightsHidden = np.random.uniform(size=(inputNeurons, hiddenNeurons))\n",
        "biasHidden = np.random.uniform(size=(1, hiddenNeurons))\n",
        "weightsOutput = np.random.uniform(size=(hiddenNeurons, outputNeurons))\n",
        "biasOutput = np.random.uniform(size=(1, outputNeurons))"
      ],
      "metadata": {
        "id": "ycrG5kI8VgsJ"
      },
      "execution_count": 30,
      "outputs": []
    },
    {
      "cell_type": "code",
      "source": [
        "alpha = 0.01\n",
        "epochs = 30000\n",
        "\n",
        "for i in range(epochs):\n",
        "  # Feedforward\n",
        "  # Step-1 - apply dot product and add bias : f(x) = x.wh + biasHidden\n",
        "  fx = np.dot(x, weightsHidden) + biasHidden\n",
        "  # Step-2 - apply activation function\n",
        "  hiddenLayer = sigmoid(fx)\n",
        "  # Step-3 - apply dot product and add bias : f(x) = hiddenLayer.wout + biasOut\n",
        "  fx_ = np.dot(hiddenLayer, weightsOutput) + biasOutput\n",
        "  # Step-4 - apply activation on output layer\n",
        "  outputLayer = sigmoid(fx_)\n",
        "  # Backpropagation - calculate loss + optimization of weights and bias\n",
        "  # Error on output layer\n",
        "  errorOutput = outputLayer - y\n",
        "  # Slope on output layer - derivative of activation function applied on this layer\n",
        "  slopeOutput = derivativeSigmoid(outputLayer)\n",
        "  # Delta = error x slope\n",
        "  deltaOutput = errorOutput * slopeOutput\n",
        "  errorHidden = np.dot(deltaOutput, weightsOutput.T)\n",
        "  slopeHidden = derivativeSigmoid(hiddenLayer)\n",
        "  deltaHidden = errorHidden * slopeHidden\n",
        "  # Optimization - weights update\n",
        "  weightsOutput = weightsOutput - hiddenLayer.T.dot(deltaOutput) * alpha\n",
        "  weightsHidden = weightsHidden - x.T.dot(deltaHidden) * alpha\n",
        "  biasOutput = biasOutput - np.sum(deltaOutput) * alpha\n",
        "  biasHidden = biasHidden - np.sum(deltaHidden) * alpha"
      ],
      "metadata": {
        "id": "4Pi67xYaUWvV"
      },
      "execution_count": 31,
      "outputs": []
    },
    {
      "cell_type": "code",
      "source": [
        "outputLayer"
      ],
      "metadata": {
        "colab": {
          "base_uri": "https://localhost:8080/"
        },
        "id": "9QU0bxzhVnyP",
        "outputId": "5bc81aa9-ec1d-4848-b806-461b08bae870"
      },
      "execution_count": 32,
      "outputs": [
        {
          "output_type": "execute_result",
          "data": {
            "text/plain": [
              "array([[0.97538884],\n",
              "       [0.95586403],\n",
              "       [0.06126862]])"
            ]
          },
          "metadata": {},
          "execution_count": 32
        }
      ]
    },
    {
      "cell_type": "code",
      "source": [],
      "metadata": {
        "id": "qIBEquHPVqfj"
      },
      "execution_count": null,
      "outputs": []
    }
  ]
}
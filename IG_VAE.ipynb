{
  "nbformat": 4,
  "nbformat_minor": 0,
  "metadata": {
    "colab": {
      "provenance": [],
      "gpuType": "T4",
      "authorship_tag": "ABX9TyP5hAlHc78auxwfrSZVCjdw",
      "include_colab_link": true
    },
    "kernelspec": {
      "name": "python3",
      "display_name": "Python 3"
    },
    "language_info": {
      "name": "python"
    },
    "accelerator": "GPU"
  },
  "cells": [
    {
      "cell_type": "markdown",
      "metadata": {
        "id": "view-in-github",
        "colab_type": "text"
      },
      "source": [
        "<a href=\"https://colab.research.google.com/github/brainmentorspvtltd/IGDTU_PyTorchTraining/blob/main/IG_VAE.ipynb\" target=\"_parent\"><img src=\"https://colab.research.google.com/assets/colab-badge.svg\" alt=\"Open In Colab\"/></a>"
      ]
    },
    {
      "cell_type": "code",
      "execution_count": 6,
      "metadata": {
        "id": "tFu5xvJlS6qT"
      },
      "outputs": [],
      "source": [
        "import torch\n",
        "from torch import nn\n",
        "import torchvision\n",
        "from torchvision import transforms\n",
        "import torchvision.datasets as datasets\n",
        "from torch.utils.data import DataLoader\n",
        "import torch.nn.functional as F\n",
        "from tqdm import tqdm"
      ]
    },
    {
      "cell_type": "code",
      "source": [
        "class VAE(nn.Module):\n",
        "  def __init__(self, input_dim, z_dim, hidden_dim):\n",
        "    super().__init__()\n",
        "    # Encoder\n",
        "    self.h1 = nn.Linear(input_dim, hidden_dim) # input\n",
        "    self.h2 = nn.Linear(hidden_dim, z_dim) # mean\n",
        "    self.h3 = nn.Linear(hidden_dim, z_dim) # standard deviation\n",
        "\n",
        "    # Decoder\n",
        "    self.z_to_hidden = nn.Linear(z_dim, hidden_dim)\n",
        "    self.hidden_to_img = nn.Linear(hidden_dim, input_dim)\n",
        "\n",
        "  # x - input image\n",
        "  def encode(self, x):\n",
        "    x = F.relu(self.h1(x))\n",
        "    mean_layer = self.h2(x)\n",
        "    std_layer = self.h3(x)\n",
        "    return mean_layer, std_layer\n",
        "\n",
        "  # z - output of encoder\n",
        "  def decode(self, z):\n",
        "    x = F.relu(self.z_to_hidden(z))\n",
        "    x = torch.sigmoid(self.hidden_to_img(x))\n",
        "    return x\n",
        "\n",
        "  def forward(self, x):\n",
        "    mean, std = self.encode(x)\n",
        "    epsilon = torch.randn_like(std)\n",
        "    z_param = mean + epsilon * std\n",
        "    x = self.decode(z_param)\n",
        "    return x, mean, std"
      ],
      "metadata": {
        "id": "VIvjuxbnTU-J"
      },
      "execution_count": 9,
      "outputs": []
    },
    {
      "cell_type": "code",
      "source": [
        "dataset = datasets.MNIST(root=\"data/\", train=True,\n",
        "                         transform=transforms.ToTensor(),\n",
        "                         download=True)\n",
        "\n",
        "train_loader = DataLoader(dataset, batch_size=32, shuffle=True)"
      ],
      "metadata": {
        "colab": {
          "base_uri": "https://localhost:8080/"
        },
        "id": "fyAvtrcrU6lY",
        "outputId": "871f0efd-30f5-48ad-9d25-3c396201cd93"
      },
      "execution_count": 4,
      "outputs": [
        {
          "output_type": "stream",
          "name": "stdout",
          "text": [
            "Downloading http://yann.lecun.com/exdb/mnist/train-images-idx3-ubyte.gz\n",
            "Downloading http://yann.lecun.com/exdb/mnist/train-images-idx3-ubyte.gz to data/MNIST/raw/train-images-idx3-ubyte.gz\n"
          ]
        },
        {
          "output_type": "stream",
          "name": "stderr",
          "text": [
            "100%|██████████| 9912422/9912422 [00:00<00:00, 109443175.40it/s]\n"
          ]
        },
        {
          "output_type": "stream",
          "name": "stdout",
          "text": [
            "Extracting data/MNIST/raw/train-images-idx3-ubyte.gz to data/MNIST/raw\n",
            "\n",
            "Downloading http://yann.lecun.com/exdb/mnist/train-labels-idx1-ubyte.gz\n",
            "Downloading http://yann.lecun.com/exdb/mnist/train-labels-idx1-ubyte.gz to data/MNIST/raw/train-labels-idx1-ubyte.gz\n"
          ]
        },
        {
          "output_type": "stream",
          "name": "stderr",
          "text": [
            "100%|██████████| 28881/28881 [00:00<00:00, 98564437.61it/s]"
          ]
        },
        {
          "output_type": "stream",
          "name": "stdout",
          "text": [
            "Extracting data/MNIST/raw/train-labels-idx1-ubyte.gz to data/MNIST/raw\n",
            "\n",
            "Downloading http://yann.lecun.com/exdb/mnist/t10k-images-idx3-ubyte.gz\n"
          ]
        },
        {
          "output_type": "stream",
          "name": "stderr",
          "text": [
            "\n"
          ]
        },
        {
          "output_type": "stream",
          "name": "stdout",
          "text": [
            "Downloading http://yann.lecun.com/exdb/mnist/t10k-images-idx3-ubyte.gz to data/MNIST/raw/t10k-images-idx3-ubyte.gz\n"
          ]
        },
        {
          "output_type": "stream",
          "name": "stderr",
          "text": [
            "100%|██████████| 1648877/1648877 [00:00<00:00, 26888530.58it/s]"
          ]
        },
        {
          "output_type": "stream",
          "name": "stdout",
          "text": [
            "Extracting data/MNIST/raw/t10k-images-idx3-ubyte.gz to data/MNIST/raw\n",
            "\n",
            "Downloading http://yann.lecun.com/exdb/mnist/t10k-labels-idx1-ubyte.gz\n"
          ]
        },
        {
          "output_type": "stream",
          "name": "stderr",
          "text": [
            "\n"
          ]
        },
        {
          "output_type": "stream",
          "name": "stdout",
          "text": [
            "Downloading http://yann.lecun.com/exdb/mnist/t10k-labels-idx1-ubyte.gz to data/MNIST/raw/t10k-labels-idx1-ubyte.gz\n"
          ]
        },
        {
          "output_type": "stream",
          "name": "stderr",
          "text": [
            "100%|██████████| 4542/4542 [00:00<00:00, 15338589.99it/s]"
          ]
        },
        {
          "output_type": "stream",
          "name": "stdout",
          "text": [
            "Extracting data/MNIST/raw/t10k-labels-idx1-ubyte.gz to data/MNIST/raw\n",
            "\n"
          ]
        },
        {
          "output_type": "stream",
          "name": "stderr",
          "text": [
            "\n"
          ]
        }
      ]
    },
    {
      "cell_type": "code",
      "source": [
        "device = 'cuda' if torch.cuda.is_available() else 'cpu'\n",
        "epochs = 10\n",
        "\n",
        "input_dim = 784 # 28 x 28\n",
        "z_dim = 32\n",
        "hidden_dim = 256\n",
        "model = VAE(input_dim, z_dim, hidden_dim).to(device)\n",
        "\n",
        "optimization = torch.optim.Adam(model.parameters(), lr=0.001)\n",
        "loss_fn = nn.BCELoss(reduction=\"sum\")\n",
        "\n",
        "for epoch in range(epochs):\n",
        "  var = tqdm(enumerate(train_loader))\n",
        "  for batch, (x,y) in var:\n",
        "    x = x.to(device).view(-1, input_dim)\n",
        "    output_img, mean, std = model(x)\n",
        "    loss = loss_fn(output_img, x)\n",
        "    kl_divergence = -torch.sum(1 + torch.log(std.pow(2)) - mean.pow(2) - std.pow(2))\n",
        "\n",
        "    total_loss = loss + kl_divergence\n",
        "    optimization.zero_grad()\n",
        "    loss.backward()\n",
        "    optimization.step()\n",
        "    var.set_postfix(total_loss = total_loss.item())"
      ],
      "metadata": {
        "colab": {
          "base_uri": "https://localhost:8080/"
        },
        "id": "n5fpQLk0Wden",
        "outputId": "5bd2c9de-a163-455e-8552-3fb6d2af8948"
      },
      "execution_count": 10,
      "outputs": [
        {
          "output_type": "stream",
          "name": "stderr",
          "text": [
            "1875it [00:19, 97.84it/s, total_loss=1.85e+4]\n",
            "1875it [00:19, 95.66it/s, total_loss=1.92e+4] \n",
            "1875it [00:20, 93.25it/s, total_loss=1.98e+4]\n",
            "1875it [00:19, 95.19it/s, total_loss=1.86e+4] \n",
            "1875it [00:19, 95.03it/s, total_loss=2.08e+4] \n",
            "1875it [00:19, 98.49it/s, total_loss=1.97e+4] \n",
            "1875it [00:19, 95.83it/s, total_loss=1.98e+4]\n",
            "1875it [00:19, 97.79it/s, total_loss=2.13e+4] \n",
            "1875it [00:19, 95.72it/s, total_loss=1.99e+4] \n",
            "1875it [00:19, 95.65it/s, total_loss=2.1e+4]\n"
          ]
        }
      ]
    },
    {
      "cell_type": "code",
      "source": [],
      "metadata": {
        "id": "xJ73scgNYyet"
      },
      "execution_count": null,
      "outputs": []
    }
  ]
}
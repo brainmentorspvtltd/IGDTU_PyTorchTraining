{
  "nbformat": 4,
  "nbformat_minor": 0,
  "metadata": {
    "colab": {
      "provenance": [],
      "gpuType": "T4",
      "authorship_tag": "ABX9TyNbXfZe2sUD0pZ/sMFpf+y0",
      "include_colab_link": true
    },
    "kernelspec": {
      "name": "python3",
      "display_name": "Python 3"
    },
    "language_info": {
      "name": "python"
    },
    "accelerator": "GPU"
  },
  "cells": [
    {
      "cell_type": "markdown",
      "metadata": {
        "id": "view-in-github",
        "colab_type": "text"
      },
      "source": [
        "<a href=\"https://colab.research.google.com/github/brainmentorspvtltd/IGDTU_PyTorchTraining/blob/main/IG_VAE.ipynb\" target=\"_parent\"><img src=\"https://colab.research.google.com/assets/colab-badge.svg\" alt=\"Open In Colab\"/></a>"
      ]
    },
    {
      "cell_type": "code",
      "execution_count": 1,
      "metadata": {
        "id": "tFu5xvJlS6qT"
      },
      "outputs": [],
      "source": [
        "import torch\n",
        "from torch import nn\n",
        "import torchvision\n",
        "from torchvision import transforms\n",
        "import torchvision.datasets as datasets\n",
        "from torch.utils.data import DataLoader\n",
        "from tqdm import tqdm"
      ]
    },
    {
      "cell_type": "code",
      "source": [
        "class VAE(nn.Module):\n",
        "  def __init__(self, input_dim, z_dim, hidden_dim):\n",
        "    super().__init__()\n",
        "    # Encoder\n",
        "    self.h1 = nn.Linear(input_dim, hidden_dim) # input\n",
        "    self.h2 = nn.Linear(hidden_dim, z_dim) # mean\n",
        "    self.h3 = nn.Linear(hidden_dim, z_dim) # standard deviation\n",
        "\n",
        "    # Decoder\n",
        "    self.z_to_hidden = nn.Linear(z_dim, hidden_dim)\n",
        "    self.hidden_to_img = nn.Linear(hidden_dim, input_dim)\n",
        "\n",
        "  # x - input image\n",
        "  def encode(self, x):\n",
        "    x = nn.ReLU(self.h1(x))\n",
        "    mean_layer = self.h2(x)\n",
        "    std_layer = self.h3(x)\n",
        "    return mean_layer, std_layer\n",
        "\n",
        "  # z - output of encoder\n",
        "  def decode(self, z):\n",
        "    x = nn.ReLU(self.z_to_hidden(z))\n",
        "    x = nn.Sigmoid(self.hidden_to_img(x))\n",
        "    return x\n",
        "\n",
        "  def forward(self, x):\n",
        "    mean, std = self.encode(x)\n",
        "    epsilon = torch.randn_like(std)\n",
        "    z_param = mean + epsilon * std\n",
        "    x = self.decode(z_param)\n",
        "    return x, mean, std"
      ],
      "metadata": {
        "id": "VIvjuxbnTU-J"
      },
      "execution_count": 3,
      "outputs": []
    },
    {
      "cell_type": "code",
      "source": [],
      "metadata": {
        "id": "fyAvtrcrU6lY"
      },
      "execution_count": null,
      "outputs": []
    }
  ]
}